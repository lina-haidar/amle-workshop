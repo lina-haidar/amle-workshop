{
  "cells": [
    {
      "cell_type": "code",
      "source": [
        "from azureml.core import Workspace, Dataset\r\n",
        "\r\n",
        "datastore_name = '<insert_your_datastore_name>'\r\n",
        "dataset_name = '<insert_fashion_mnist_dataset_name>'\r\n",
        "\r\n",
        "workspace = Workspace.from_config()\r\n",
        "dataset = Dataset.get_by_name(workspace, name=dataset_name)"
      ],
      "outputs": [],
      "execution_count": null,
      "metadata": {
        "gather": {
          "logged": 1648402568574
        }
      }
    },
    {
      "cell_type": "code",
      "source": [
        "mount = dataset.mount()\r\n",
        "mount.start()\r\n",
        "mounted_input_path = mount.mount_point"
      ],
      "outputs": [],
      "execution_count": null,
      "metadata": {
        "jupyter": {
          "source_hidden": false,
          "outputs_hidden": false
        },
        "nteract": {
          "transient": {
            "deleting": false
          }
        },
        "gather": {
          "logged": 1648402575656
        }
      }
    },
    {
      "cell_type": "code",
      "source": [
        "import os\r\n",
        "os.listdir(mounted_input_path)"
      ],
      "outputs": [],
      "execution_count": null,
      "metadata": {
        "jupyter": {
          "source_hidden": false,
          "outputs_hidden": false
        },
        "nteract": {
          "transient": {
            "deleting": false
          }
        },
        "gather": {
          "logged": 1648402577662
        }
      }
    },
    {
      "cell_type": "code",
      "source": [
        "import gzip\r\n",
        "\r\n",
        "def convert(imgf, labelf, outf, n):\r\n",
        "    f = gzip.open(imgf, \"rb\")\r\n",
        "    temp = gzip.open(labelf, \"rb\")\r\n",
        "    o = open(outf, \"w\")\r\n",
        "\r\n",
        "    f.read(16)\r\n",
        "    temp.read(8)\r\n",
        "    images = []\r\n",
        "\r\n",
        "    for i in range(n):\r\n",
        "        image = [ord(temp.read(1))]\r\n",
        "        for j in range(28 * 28):\r\n",
        "            image.append(ord(f.read(1)))\r\n",
        "        images.append(image)\r\n",
        "\r\n",
        "    for image in images:\r\n",
        "        o.write(\",\".join(str(pix) for pix in image) + \"\\n\")\r\n",
        "    f.close()\r\n",
        "    o.close()\r\n",
        "    temp.close()"
      ],
      "outputs": [],
      "execution_count": null,
      "metadata": {
        "jupyter": {
          "source_hidden": false,
          "outputs_hidden": false
        },
        "nteract": {
          "transient": {
            "deleting": false
          }
        },
        "gather": {
          "logged": 1648402577788
        }
      }
    },
    {
      "cell_type": "code",
      "source": [
        "import os\r\n",
        "mounted_output_path = '.'\r\n",
        "convert(os.path.join(mounted_input_path, 'train-images-idx3-ubyte.gz'),\r\n",
        "        os.path.join(mounted_input_path, 'train-labels-idx1-ubyte.gz'),\r\n",
        "        os.path.join(mounted_output_path, 'mnist_train.csv'), 60000)\r\n",
        "\r\n",
        "convert(os.path.join(mounted_input_path, 't10k-images-idx3-ubyte.gz'),\r\n",
        "        os.path.join(mounted_input_path, 't10k-labels-idx1-ubyte.gz'),\r\n",
        "        os.path.join(mounted_output_path, 'mnist_test.csv'), 10000)"
      ],
      "outputs": [],
      "execution_count": null,
      "metadata": {
        "jupyter": {
          "source_hidden": false,
          "outputs_hidden": false
        },
        "nteract": {
          "transient": {
            "deleting": false
          }
        },
        "gather": {
          "logged": 1648402617495
        }
      }
    },
    {
      "cell_type": "code",
      "source": [
        "import pandas as pd\r\n",
        "\r\n",
        "data_train = pd.read_csv('mnist_train.csv',header=None)\r\n",
        "data_test = pd.read_csv('mnist_test.csv',header=None)\r\n"
      ],
      "outputs": [],
      "execution_count": null,
      "metadata": {
        "jupyter": {
          "source_hidden": false,
          "outputs_hidden": false
        },
        "nteract": {
          "transient": {
            "deleting": false
          }
        },
        "gather": {
          "logged": 1648402623294
        }
      }
    },
    {
      "cell_type": "code",
      "source": [
        "from tensorflow import keras\r\n",
        "from tensorflow.keras.models import Sequential\r\n",
        "from tensorflow.keras.layers import Dense, Dropout, Flatten\r\n",
        "from tensorflow.keras.layers import Conv2D, MaxPooling2D\r\n",
        "from tensorflow.keras.utils import to_categorical\r\n",
        "\r\n",
        "import numpy as np\r\n",
        "import os\r\n",
        "import matplotlib.pyplot as plt\r\n",
        "from sklearn.model_selection import train_test_split\r\n",
        "\r\n",
        "img_rows, img_cols = 28, 28\r\n",
        "input_shape = (img_rows, img_cols, 1)\r\n",
        "\r\n",
        "X = np.array(data_train.iloc[:, 1:])\r\n",
        "y = to_categorical(np.array(data_train.iloc[:, 0]))\r\n",
        "\r\n",
        "# here we split validation data to optimiza classifier during training\r\n",
        "X_train, X_val, y_train, y_val = train_test_split(X, y, test_size=0.2, random_state=13)\r\n",
        "\r\n",
        "# test data\r\n",
        "X_test = np.array(data_test.iloc[:, 1:])\r\n",
        "y_test = to_categorical(np.array(data_test.iloc[:, 0]))\r\n",
        "\r\n",
        "\r\n",
        "X_train = X_train.reshape(X_train.shape[0], img_rows, img_cols, 1).astype('float32') / 255\r\n",
        "X_test = X_test.reshape(X_test.shape[0], img_rows, img_cols, 1).astype('float32') / 255\r\n",
        "X_val = X_val.reshape(X_val.shape[0], img_rows, img_cols, 1).astype('float32') / 255\r\n",
        "\r\n",
        "batch_size = 256\r\n",
        "num_classes = 10\r\n",
        "epochs = 10\r\n",
        "\r\n",
        "# construct neuron network\r\n",
        "model = Sequential()\r\n",
        "model.add(Conv2D(32, kernel_size=(3, 3),\r\n",
        "                 activation='relu',\r\n",
        "                 kernel_initializer='he_normal',\r\n",
        "                 input_shape=input_shape))\r\n",
        "model.add(MaxPooling2D((2, 2)))\r\n",
        "model.add(Dropout(0.25))\r\n",
        "model.add(Conv2D(64, (3, 3), activation='relu'))\r\n",
        "model.add(MaxPooling2D(pool_size=(2, 2)))\r\n",
        "model.add(Dropout(0.25))\r\n",
        "model.add(Conv2D(128, (3, 3), activation='relu'))\r\n",
        "model.add(Dropout(0.4))\r\n",
        "model.add(Flatten())\r\n",
        "model.add(Dense(128, activation='relu'))\r\n",
        "model.add(Dropout(0.3))\r\n",
        "model.add(Dense(num_classes, activation='softmax'))\r\n",
        "\r\n",
        "model.compile(loss=keras.losses.categorical_crossentropy,\r\n",
        "              optimizer=keras.optimizers.Adam(),\r\n",
        "              metrics=['accuracy'])\r\n",
        "\r\n",
        "\r\n",
        "history = model.fit(X_train, y_train,\r\n",
        "                    batch_size=batch_size,\r\n",
        "                    epochs=epochs,\r\n",
        "                    verbose=1,\r\n",
        "                    validation_data=(X_val, y_val))\r\n",
        "\r\n",
        "score = model.evaluate(X_test, y_test, verbose=0)\r\n",
        "\r\n",
        "# log a single value\r\n",
        "print('Test loss:', score[0])\r\n",
        "\r\n",
        "print('Test accuracy:', score[1])\r\n",
        "\r\n",
        "plt.figure(figsize=(6, 3))\r\n",
        "plt.title('Fashion MNIST with Keras ({} epochs)'.format(epochs), fontsize=14)\r\n",
        "plt.plot(history.history['accuracy'], 'b-', label='Accuracy', lw=4, alpha=0.5)\r\n",
        "plt.plot(history.history['loss'], 'r--', label='Loss', lw=4, alpha=0.5)\r\n",
        "plt.legend(fontsize=12)\r\n",
        "plt.grid(True)\r\n",
        "\r\n",
        "# log an image\r\n",
        "\r\n",
        "# create a ./outputs/model folder in the compute target\r\n",
        "# files saved in the \"./outputs\" folder are automatically uploaded into run history\r\n",
        "os.makedirs('./outputs/model', exist_ok=True)\r\n",
        "\r\n",
        "# serialize NN architecture to JSON\r\n",
        "model_json = model.to_json()\r\n",
        "# save model JSON\r\n",
        "with open('./outputs/model/model.json', 'w') as f:\r\n",
        "    f.write(model_json)\r\n",
        "# save model weights\r\n",
        "model.save_weights('./outputs/model/model.h5')\r\n",
        "print(\"model saved in ./outputs/model folder\")"
      ],
      "outputs": [],
      "execution_count": null,
      "metadata": {
        "jupyter": {
          "source_hidden": false,
          "outputs_hidden": false
        },
        "nteract": {
          "transient": {
            "deleting": false
          }
        },
        "gather": {
          "logged": 1648402741604
        }
      }
    },
    {
      "cell_type": "code",
      "source": [
        "# Register tabular version of fashion mnist dataset as TabularDaset in our datastore\r\n",
        "from azureml.core import Datastore\r\n",
        "datastore =  Datastore.get(workspace, datastore_name)\r\n",
        "Dataset.Tabular.register_pandas_dataframe(data_train, datastore, \"fashion_mnist_train_tabular\", show_progress=True)\r\n",
        "Dataset.Tabular.register_pandas_dataframe(data_test, datastore, \"fashion_mnist_test_tabular\", show_progress=True)"
      ],
      "outputs": [],
      "execution_count": null,
      "metadata": {
        "jupyter": {
          "source_hidden": false,
          "outputs_hidden": false
        },
        "nteract": {
          "transient": {
            "deleting": false
          }
        },
        "gather": {
          "logged": 1648402765031
        }
      }
    }
  ],
  "metadata": {
    "kernelspec": {
      "name": "azureml_py38_pt_tf",
      "language": "python",
      "display_name": "Python 3.8 - Pytorch and Tensorflow"
    },
    "language_info": {
      "name": "python",
      "version": "3.8.1",
      "mimetype": "text/x-python",
      "codemirror_mode": {
        "name": "ipython",
        "version": 3
      },
      "pygments_lexer": "ipython3",
      "nbconvert_exporter": "python",
      "file_extension": ".py"
    },
    "kernel_info": {
      "name": "azureml_py38_pt_tf"
    },
    "microsoft": {
      "host": {
        "AzureML": {
          "notebookHasBeenCompleted": true
        }
      }
    },
    "nteract": {
      "version": "nteract-front-end@1.0.0"
    }
  },
  "nbformat": 4,
  "nbformat_minor": 2
}